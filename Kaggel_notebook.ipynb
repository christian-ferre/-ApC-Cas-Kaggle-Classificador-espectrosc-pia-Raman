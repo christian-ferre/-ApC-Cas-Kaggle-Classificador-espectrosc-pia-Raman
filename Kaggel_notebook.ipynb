{
 "cells": [
  {
   "cell_type": "markdown",
   "id": "cf1ccdd5",
   "metadata": {},
   "source": [
    "# Cas Kaggle\n",
    "Nom: Christian Ferré Delgado <br/><br/>\n",
    "NIU: 1565129"
   ]
  },
  {
   "cell_type": "markdown",
   "id": "f87bb9e0",
   "metadata": {},
   "source": [
    "## 1. Introducció:"
   ]
  },
  {
   "cell_type": "markdown",
   "id": "ada5aabb",
   "metadata": {},
   "source": [
    "El mètode de diagnòstic recomenat pel coronavirus és una tècnica bassada en qPCR, el problema d'aquesta és que requereix molt de temps, és costós i depèn de la mostra amb una proporció relativament alta de falsos negatius. Per tant, l'objectiu d'aquest estudi va ser desenvolupar un mètode àmpliament disponible, barat i ràpid per diagnosticar la malaltia COVID-19 basat en l'espectroscòpia Raman. Aquesta base de dades recull tots els resultats d'aquests mètode i el diagnòstic final. Per tant, l'objectiu principal és crear un model i veure com de bo és aquest analitzant la variable diagnostic, la qual té dos possibles valors: 'Healthy' per als pacients no infectats i 'SARS-CoV-2' pels pacients infectats."
   ]
  },
  {
   "cell_type": "markdown",
   "id": "5eecd7d8",
   "metadata": {},
   "source": [
    "Base de dades: https://www.kaggle.com/sfran96/raman-spectroscopy-for-detecting-covid19?select=tube_spectra.csv"
   ]
  },
  {
   "cell_type": "markdown",
   "id": "6a44a18d",
   "metadata": {},
   "source": [
    "### Dependències:"
   ]
  },
  {
   "cell_type": "code",
   "execution_count": 500,
   "id": "412236d6",
   "metadata": {},
   "outputs": [],
   "source": [
    "import matplotlib.pyplot as plt\n",
    "\n",
    "import pandas as pd\n",
    "\n",
    "from sklearn.model_selection import train_test_split\n",
    "from sklearn.preprocessing import StandardScaler, Normalizer\n",
    "from sklearn.tree import DecisionTreeClassifier\n",
    "from sklearn.ensemble import RandomForestClassifier\n",
    "from sklearn.metrics import roc_auc_score\n",
    "from sklearn.linear_model import LogisticRegression\n",
    "from sklearn.model_selection import cross_val_score\n",
    "from sklearn.model_selection import KFold\n",
    "from sklearn.model_selection import RepeatedKFold\n",
    "\n",
    "import seaborn as sns"
   ]
  },
  {
   "cell_type": "markdown",
   "id": "2f4f6ac2",
   "metadata": {},
   "source": [
    "## 2. Anàlisi de la base de dades:"
   ]
  },
  {
   "cell_type": "markdown",
   "id": "d43956fb",
   "metadata": {},
   "source": [
    "Carreguem el dataset:"
   ]
  },
  {
   "cell_type": "code",
   "execution_count": 501,
   "id": "8e5d7521",
   "metadata": {},
   "outputs": [
    {
     "name": "stdout",
     "output_type": "stream",
     "text": [
      "   400       402       405       407       410       412       415       417  \\\n",
      "0  0.0 -0.015237 -0.030607 -0.038309 -0.039078 -0.035809 -0.031176 -0.030395   \n",
      "1  0.0 -0.012098 -0.028164 -0.035189 -0.036138 -0.031050 -0.026015 -0.027539   \n",
      "2  0.0 -0.013000 -0.029058 -0.035021 -0.034994 -0.033025 -0.028413 -0.028470   \n",
      "3  0.0 -0.015728 -0.034346 -0.045140 -0.047671 -0.044334 -0.040807 -0.040474   \n",
      "4  0.0 -0.020355 -0.045839 -0.060556 -0.065805 -0.064988 -0.062097 -0.061955   \n",
      "\n",
      "        420       422  ...      2101      2103      2104      2105      2107  \\\n",
      "0 -0.033311 -0.031603  ... -0.000553  0.000118  0.000566  0.001245  0.000846   \n",
      "1 -0.028084 -0.027075  ... -0.000998  0.000278 -0.000123  0.000384  0.001010   \n",
      "2 -0.029737 -0.029198  ... -0.001554  0.000050  0.000866  0.000877  0.000871   \n",
      "3 -0.041417 -0.040699  ... -0.001541 -0.000198  0.000202  0.001023  0.000625   \n",
      "4 -0.064759 -0.066886  ... -0.000088  0.000891  0.000942  0.001294  0.001878   \n",
      "\n",
      "       2108      2109      2111  2112  diagnostic  \n",
      "0  0.001106  0.001005  0.000117   0.0     Healthy  \n",
      "1  0.000583 -0.000397 -0.000160   0.0     Healthy  \n",
      "2  0.001093  0.001058  0.000614   0.0     Healthy  \n",
      "3  0.000420  0.000543 -0.000071   0.0     Healthy  \n",
      "4  0.001739  0.001946  0.001301   0.0     Healthy  \n",
      "\n",
      "[5 rows x 901 columns]\n"
     ]
    }
   ],
   "source": [
    "def load_dataset(path):\n",
    "    dataset = pd.read_csv(path, header=0, delimiter=',')\n",
    "    return dataset\n",
    "\n",
    "dataset = load_dataset('covid_and_healthy_spectra.csv')\n",
    "print(dataset.head())"
   ]
  },
  {
   "cell_type": "markdown",
   "id": "977dd924",
   "metadata": {},
   "source": [
    "Comprovem en el tipus d'atributs:"
   ]
  },
  {
   "cell_type": "code",
   "execution_count": 502,
   "id": "87b55ce0",
   "metadata": {},
   "outputs": [
    {
     "data": {
      "text/html": [
       "<div>\n",
       "<style scoped>\n",
       "    .dataframe tbody tr th:only-of-type {\n",
       "        vertical-align: middle;\n",
       "    }\n",
       "\n",
       "    .dataframe tbody tr th {\n",
       "        vertical-align: top;\n",
       "    }\n",
       "\n",
       "    .dataframe thead th {\n",
       "        text-align: right;\n",
       "    }\n",
       "</style>\n",
       "<table border=\"1\" class=\"dataframe\">\n",
       "  <thead>\n",
       "    <tr style=\"text-align: right;\">\n",
       "      <th></th>\n",
       "      <th>400</th>\n",
       "      <th>402</th>\n",
       "      <th>405</th>\n",
       "      <th>407</th>\n",
       "      <th>410</th>\n",
       "      <th>412</th>\n",
       "      <th>415</th>\n",
       "      <th>417</th>\n",
       "      <th>420</th>\n",
       "      <th>422</th>\n",
       "      <th>...</th>\n",
       "      <th>2101</th>\n",
       "      <th>2103</th>\n",
       "      <th>2104</th>\n",
       "      <th>2105</th>\n",
       "      <th>2107</th>\n",
       "      <th>2108</th>\n",
       "      <th>2109</th>\n",
       "      <th>2111</th>\n",
       "      <th>2112</th>\n",
       "      <th>diagnostic</th>\n",
       "    </tr>\n",
       "  </thead>\n",
       "  <tbody>\n",
       "    <tr>\n",
       "      <th>Type</th>\n",
       "      <td>float64</td>\n",
       "      <td>float64</td>\n",
       "      <td>float64</td>\n",
       "      <td>float64</td>\n",
       "      <td>float64</td>\n",
       "      <td>float64</td>\n",
       "      <td>float64</td>\n",
       "      <td>float64</td>\n",
       "      <td>float64</td>\n",
       "      <td>float64</td>\n",
       "      <td>...</td>\n",
       "      <td>float64</td>\n",
       "      <td>float64</td>\n",
       "      <td>float64</td>\n",
       "      <td>float64</td>\n",
       "      <td>float64</td>\n",
       "      <td>float64</td>\n",
       "      <td>float64</td>\n",
       "      <td>float64</td>\n",
       "      <td>float64</td>\n",
       "      <td>object</td>\n",
       "    </tr>\n",
       "  </tbody>\n",
       "</table>\n",
       "<p>1 rows × 901 columns</p>\n",
       "</div>"
      ],
      "text/plain": [
       "          400      402      405      407      410      412      415      417  \\\n",
       "Type  float64  float64  float64  float64  float64  float64  float64  float64   \n",
       "\n",
       "          420      422  ...     2101     2103     2104     2105     2107  \\\n",
       "Type  float64  float64  ...  float64  float64  float64  float64  float64   \n",
       "\n",
       "         2108     2109     2111     2112 diagnostic  \n",
       "Type  float64  float64  float64  float64     object  \n",
       "\n",
       "[1 rows x 901 columns]"
      ]
     },
     "execution_count": 502,
     "metadata": {},
     "output_type": "execute_result"
    }
   ],
   "source": [
    "dataset.dtypes.to_frame(\"Type\").T"
   ]
  },
  {
   "cell_type": "markdown",
   "id": "27698e1f",
   "metadata": {},
   "source": [
    "Podem observar que tots són del tipus float64 menys l'atribut objectiu que és del tipus object. Per tant, cambiarem els valors de la nostre variable objectiu('diagnostic'), és a dir, cambiarem 'Healthy' per '1' i 'SARS-CoV-2' per '0' per cambiar la variable de tipus object a int."
   ]
  },
  {
   "cell_type": "code",
   "execution_count": 503,
   "id": "d1c4de78",
   "metadata": {},
   "outputs": [
    {
     "name": "stdout",
     "output_type": "stream",
     "text": [
      "0      1\n",
      "1      1\n",
      "2      1\n",
      "3      1\n",
      "4      1\n",
      "      ..\n",
      "304    0\n",
      "305    0\n",
      "306    0\n",
      "307    0\n",
      "308    0\n",
      "Name: diagnostic, Length: 309, dtype: int64\n"
     ]
    }
   ],
   "source": [
    "dataset['diagnostic'].replace(['Healthy', 'SARS-CoV-2'],[1,0],inplace=True)\n",
    "print(dataset['diagnostic'])"
   ]
  },
  {
   "cell_type": "markdown",
   "id": "fec05074",
   "metadata": {},
   "source": [
    "Comprovem si ha valors nuls:"
   ]
  },
  {
   "cell_type": "code",
   "execution_count": 504,
   "id": "f82bd04c",
   "metadata": {},
   "outputs": [
    {
     "name": "stdout",
     "output_type": "stream",
     "text": [
      "Is there NaN values? False\n"
     ]
    }
   ],
   "source": [
    "print(\"Is there NaN values?\",  dataset.isnull().values.any()) "
   ]
  },
  {
   "cell_type": "markdown",
   "id": "09f16650",
   "metadata": {},
   "source": [
    "Com podem observar en el resultat anterior, com no hi han valors nuls, no hem de tractar-los."
   ]
  },
  {
   "cell_type": "markdown",
   "id": "828c9857",
   "metadata": {},
   "source": [
    "També ens interesarà reduir el nombre de columnes, ja que tenim un nombre excessiu de variables, tal i com podem veure en la següent execució:"
   ]
  },
  {
   "cell_type": "code",
   "execution_count": 505,
   "id": "ed81ec5d",
   "metadata": {},
   "outputs": [
    {
     "name": "stdout",
     "output_type": "stream",
     "text": [
      "Número total de variables/columnes:  901\n"
     ]
    }
   ],
   "source": [
    "print(\"Número total de variables/columnes: \", dataset.shape[1])"
   ]
  },
  {
   "cell_type": "markdown",
   "id": "93672411",
   "metadata": {},
   "source": [
    "A més, per veure si la base de dades és desbalancejada comptarem el nombre de 1 i 0 de possibles sortides:"
   ]
  },
  {
   "cell_type": "code",
   "execution_count": 506,
   "id": "ce3a3c2d",
   "metadata": {},
   "outputs": [
    {
     "name": "stdout",
     "output_type": "stream",
     "text": [
      "0    159\n",
      "1    150\n",
      "Name: diagnostic, dtype: int64\n"
     ]
    }
   ],
   "source": [
    "item_count = dataset[\"diagnostic\"].value_counts()\n",
    "print(item_count)"
   ]
  },
  {
   "cell_type": "markdown",
   "id": "be3441ac",
   "metadata": {},
   "source": [
    "Per sort, tenim la base de dades balancejada ja que un 50% de les dades tenen com a valor de l'atribut 'diagnostic' 1 i la resta 0. Per consegüent, ens estalviem haver de tractar-ho."
   ]
  },
  {
   "cell_type": "markdown",
   "id": "8d03d3ee",
   "metadata": {},
   "source": [
    "### 2.1 Correlació de dades:"
   ]
  },
  {
   "cell_type": "markdown",
   "id": "b2aad0d3",
   "metadata": {},
   "source": [
    "Ara veurem la correlació entre les variables que tinguin més i menys correlació amb 'diagnostic':"
   ]
  },
  {
   "cell_type": "code",
   "execution_count": 507,
   "id": "278b73a8",
   "metadata": {},
   "outputs": [
    {
     "name": "stdout",
     "output_type": "stream",
     "text": [
      "diagnostic    1.000000\n",
      "2085          0.714829\n",
      "2086          0.694169\n",
      "2080          0.683209\n",
      "2084          0.678898\n",
      "2088          0.669515\n",
      "2078          0.668636\n",
      "2081          0.651142\n",
      "1995          0.634188\n",
      "1757          0.631542\n",
      "1761          0.630211\n",
      "2048          0.629639\n",
      "1759          0.625877\n",
      "2046          0.623862\n",
      "1780          0.619791\n",
      "1996          0.611250\n",
      "1756          0.611148\n",
      "2053          0.608785\n",
      "1998          0.606318\n",
      "2049          0.605902\n",
      "2089          0.605471\n",
      "2021          0.605216\n",
      "1779          0.602798\n",
      "2050          0.596201\n",
      "2077          0.596000\n",
      "2019          0.588424\n",
      "2018          0.585161\n",
      "2017          0.583929\n",
      "2045          0.581895\n",
      "2052          0.581544\n",
      "Name: diagnostic, dtype: float64\n"
     ]
    }
   ],
   "source": [
    "#Variables amb més correlació\n",
    "corr = dataset.corr()['diagnostic'].sort_values(ascending=False)\n",
    "print(corr[:30])"
   ]
  },
  {
   "cell_type": "code",
   "execution_count": 508,
   "id": "a953aefd",
   "metadata": {},
   "outputs": [
    {
     "name": "stdout",
     "output_type": "stream",
     "text": [
      "diagnostic    1.000000\n",
      "2085          0.714829\n",
      "2086          0.694169\n",
      "2080          0.683209\n",
      "2084          0.678898\n",
      "2088          0.669515\n",
      "2078          0.668636\n",
      "2081          0.651142\n",
      "1995          0.634188\n",
      "1757          0.631542\n",
      "1761          0.630211\n",
      "2048          0.629639\n",
      "1759          0.625877\n",
      "2046          0.623862\n",
      "1780          0.619791\n",
      "1996          0.611250\n",
      "1756          0.611148\n",
      "2053          0.608785\n",
      "1998          0.606318\n",
      "2049          0.605902\n",
      "2089          0.605471\n",
      "2021          0.605216\n",
      "1779          0.602798\n",
      "2050          0.596201\n",
      "2077          0.596000\n",
      "2019          0.588424\n",
      "2018          0.585161\n",
      "2017          0.583929\n",
      "2045          0.581895\n",
      "2052          0.581544\n",
      "Name: diagnostic, dtype: float64\n"
     ]
    }
   ],
   "source": [
    "#Variables amb menys correlació:\n",
    "corr_inv = dataset.corr()['diagnostic'].sort_values(ascending=True)\n",
    "print(corr[:30])"
   ]
  },
  {
   "cell_type": "markdown",
   "id": "3547680a",
   "metadata": {},
   "source": [
    "Com que hi han moltes variables, eliminarem les variables amb una correlació inferior a 0.6:"
   ]
  },
  {
   "cell_type": "code",
   "execution_count": 509,
   "id": "c036d2d5",
   "metadata": {},
   "outputs": [
    {
     "name": "stdout",
     "output_type": "stream",
     "text": [
      "(309, 32)\n"
     ]
    }
   ],
   "source": [
    "#eliminem columnes amb baixa correlació\n",
    "corr = dataset.corr()['diagnostic']\n",
    "dataset_r = dataset\n",
    "for i in dataset:\n",
    "    if corr[i] < 0.6:\n",
    "        dataset_r = dataset_r.drop([i],axis = 1)\n",
    "        \n",
    "print(dataset_r.shape)"
   ]
  },
  {
   "cell_type": "markdown",
   "id": "53233fb6",
   "metadata": {},
   "source": [
    "Reduïm 869 variables"
   ]
  },
  {
   "cell_type": "markdown",
   "id": "a1b508b3",
   "metadata": {},
   "source": [
    "### 2.2 Normalització de dades:"
   ]
  },
  {
   "cell_type": "code",
   "execution_count": 510,
   "id": "22918660",
   "metadata": {},
   "outputs": [
    {
     "data": {
      "text/html": [
       "<div>\n",
       "<style scoped>\n",
       "    .dataframe tbody tr th:only-of-type {\n",
       "        vertical-align: middle;\n",
       "    }\n",
       "\n",
       "    .dataframe tbody tr th {\n",
       "        vertical-align: top;\n",
       "    }\n",
       "\n",
       "    .dataframe thead th {\n",
       "        text-align: right;\n",
       "    }\n",
       "</style>\n",
       "<table border=\"1\" class=\"dataframe\">\n",
       "  <thead>\n",
       "    <tr style=\"text-align: right;\">\n",
       "      <th></th>\n",
       "      <th>400</th>\n",
       "      <th>904</th>\n",
       "      <th>1080</th>\n",
       "      <th>1251</th>\n",
       "      <th>1359</th>\n",
       "      <th>1410</th>\n",
       "      <th>1517</th>\n",
       "      <th>1647</th>\n",
       "      <th>1746</th>\n",
       "      <th>1756</th>\n",
       "      <th>...</th>\n",
       "      <th>2053</th>\n",
       "      <th>2078</th>\n",
       "      <th>2080</th>\n",
       "      <th>2081</th>\n",
       "      <th>2084</th>\n",
       "      <th>2085</th>\n",
       "      <th>2086</th>\n",
       "      <th>2088</th>\n",
       "      <th>2089</th>\n",
       "      <th>diagnostic</th>\n",
       "    </tr>\n",
       "  </thead>\n",
       "  <tbody>\n",
       "    <tr>\n",
       "      <th>count</th>\n",
       "      <td>309.0</td>\n",
       "      <td>309.0</td>\n",
       "      <td>309.0</td>\n",
       "      <td>309.0</td>\n",
       "      <td>309.0</td>\n",
       "      <td>309.0</td>\n",
       "      <td>309.0</td>\n",
       "      <td>309.0</td>\n",
       "      <td>309.0</td>\n",
       "      <td>309.000000</td>\n",
       "      <td>...</td>\n",
       "      <td>309.000000</td>\n",
       "      <td>309.000000</td>\n",
       "      <td>309.000000</td>\n",
       "      <td>309.000000</td>\n",
       "      <td>309.000000</td>\n",
       "      <td>309.000000</td>\n",
       "      <td>309.000000</td>\n",
       "      <td>309.000000</td>\n",
       "      <td>309.000000</td>\n",
       "      <td>309.000000</td>\n",
       "    </tr>\n",
       "    <tr>\n",
       "      <th>mean</th>\n",
       "      <td>0.0</td>\n",
       "      <td>0.0</td>\n",
       "      <td>0.0</td>\n",
       "      <td>0.0</td>\n",
       "      <td>0.0</td>\n",
       "      <td>0.0</td>\n",
       "      <td>0.0</td>\n",
       "      <td>0.0</td>\n",
       "      <td>0.0</td>\n",
       "      <td>-0.009855</td>\n",
       "      <td>...</td>\n",
       "      <td>-0.019182</td>\n",
       "      <td>-0.007409</td>\n",
       "      <td>-0.007734</td>\n",
       "      <td>-0.008013</td>\n",
       "      <td>-0.008650</td>\n",
       "      <td>-0.009461</td>\n",
       "      <td>-0.010260</td>\n",
       "      <td>-0.010716</td>\n",
       "      <td>-0.011097</td>\n",
       "      <td>0.485437</td>\n",
       "    </tr>\n",
       "    <tr>\n",
       "      <th>std</th>\n",
       "      <td>0.0</td>\n",
       "      <td>0.0</td>\n",
       "      <td>0.0</td>\n",
       "      <td>0.0</td>\n",
       "      <td>0.0</td>\n",
       "      <td>0.0</td>\n",
       "      <td>0.0</td>\n",
       "      <td>0.0</td>\n",
       "      <td>0.0</td>\n",
       "      <td>0.001922</td>\n",
       "      <td>...</td>\n",
       "      <td>0.001886</td>\n",
       "      <td>0.001395</td>\n",
       "      <td>0.001462</td>\n",
       "      <td>0.001580</td>\n",
       "      <td>0.001612</td>\n",
       "      <td>0.001643</td>\n",
       "      <td>0.001650</td>\n",
       "      <td>0.001475</td>\n",
       "      <td>0.001379</td>\n",
       "      <td>0.500599</td>\n",
       "    </tr>\n",
       "    <tr>\n",
       "      <th>min</th>\n",
       "      <td>0.0</td>\n",
       "      <td>0.0</td>\n",
       "      <td>0.0</td>\n",
       "      <td>0.0</td>\n",
       "      <td>0.0</td>\n",
       "      <td>0.0</td>\n",
       "      <td>0.0</td>\n",
       "      <td>0.0</td>\n",
       "      <td>0.0</td>\n",
       "      <td>-0.013881</td>\n",
       "      <td>...</td>\n",
       "      <td>-0.025196</td>\n",
       "      <td>-0.014216</td>\n",
       "      <td>-0.015635</td>\n",
       "      <td>-0.015002</td>\n",
       "      <td>-0.016397</td>\n",
       "      <td>-0.016355</td>\n",
       "      <td>-0.017492</td>\n",
       "      <td>-0.016863</td>\n",
       "      <td>-0.018024</td>\n",
       "      <td>0.000000</td>\n",
       "    </tr>\n",
       "    <tr>\n",
       "      <th>25%</th>\n",
       "      <td>0.0</td>\n",
       "      <td>0.0</td>\n",
       "      <td>0.0</td>\n",
       "      <td>0.0</td>\n",
       "      <td>0.0</td>\n",
       "      <td>0.0</td>\n",
       "      <td>0.0</td>\n",
       "      <td>0.0</td>\n",
       "      <td>0.0</td>\n",
       "      <td>-0.011426</td>\n",
       "      <td>...</td>\n",
       "      <td>-0.020708</td>\n",
       "      <td>-0.008471</td>\n",
       "      <td>-0.008748</td>\n",
       "      <td>-0.009102</td>\n",
       "      <td>-0.009822</td>\n",
       "      <td>-0.010678</td>\n",
       "      <td>-0.011643</td>\n",
       "      <td>-0.011843</td>\n",
       "      <td>-0.011927</td>\n",
       "      <td>0.000000</td>\n",
       "    </tr>\n",
       "    <tr>\n",
       "      <th>50%</th>\n",
       "      <td>0.0</td>\n",
       "      <td>0.0</td>\n",
       "      <td>0.0</td>\n",
       "      <td>0.0</td>\n",
       "      <td>0.0</td>\n",
       "      <td>0.0</td>\n",
       "      <td>0.0</td>\n",
       "      <td>0.0</td>\n",
       "      <td>0.0</td>\n",
       "      <td>-0.009882</td>\n",
       "      <td>...</td>\n",
       "      <td>-0.018885</td>\n",
       "      <td>-0.007186</td>\n",
       "      <td>-0.007497</td>\n",
       "      <td>-0.007799</td>\n",
       "      <td>-0.008251</td>\n",
       "      <td>-0.009119</td>\n",
       "      <td>-0.009912</td>\n",
       "      <td>-0.010414</td>\n",
       "      <td>-0.010875</td>\n",
       "      <td>0.000000</td>\n",
       "    </tr>\n",
       "    <tr>\n",
       "      <th>75%</th>\n",
       "      <td>0.0</td>\n",
       "      <td>0.0</td>\n",
       "      <td>0.0</td>\n",
       "      <td>0.0</td>\n",
       "      <td>0.0</td>\n",
       "      <td>0.0</td>\n",
       "      <td>0.0</td>\n",
       "      <td>0.0</td>\n",
       "      <td>0.0</td>\n",
       "      <td>-0.008329</td>\n",
       "      <td>...</td>\n",
       "      <td>-0.017882</td>\n",
       "      <td>-0.006316</td>\n",
       "      <td>-0.006622</td>\n",
       "      <td>-0.006866</td>\n",
       "      <td>-0.007493</td>\n",
       "      <td>-0.008167</td>\n",
       "      <td>-0.008990</td>\n",
       "      <td>-0.009615</td>\n",
       "      <td>-0.010049</td>\n",
       "      <td>1.000000</td>\n",
       "    </tr>\n",
       "    <tr>\n",
       "      <th>max</th>\n",
       "      <td>0.0</td>\n",
       "      <td>0.0</td>\n",
       "      <td>0.0</td>\n",
       "      <td>0.0</td>\n",
       "      <td>0.0</td>\n",
       "      <td>0.0</td>\n",
       "      <td>0.0</td>\n",
       "      <td>0.0</td>\n",
       "      <td>0.0</td>\n",
       "      <td>-0.004256</td>\n",
       "      <td>...</td>\n",
       "      <td>-0.014741</td>\n",
       "      <td>-0.004140</td>\n",
       "      <td>-0.004840</td>\n",
       "      <td>-0.000360</td>\n",
       "      <td>-0.002475</td>\n",
       "      <td>-0.006034</td>\n",
       "      <td>-0.006631</td>\n",
       "      <td>-0.007668</td>\n",
       "      <td>-0.008264</td>\n",
       "      <td>1.000000</td>\n",
       "    </tr>\n",
       "  </tbody>\n",
       "</table>\n",
       "<p>8 rows × 32 columns</p>\n",
       "</div>"
      ],
      "text/plain": [
       "         400    904   1080   1251   1359   1410   1517   1647   1746  \\\n",
       "count  309.0  309.0  309.0  309.0  309.0  309.0  309.0  309.0  309.0   \n",
       "mean     0.0    0.0    0.0    0.0    0.0    0.0    0.0    0.0    0.0   \n",
       "std      0.0    0.0    0.0    0.0    0.0    0.0    0.0    0.0    0.0   \n",
       "min      0.0    0.0    0.0    0.0    0.0    0.0    0.0    0.0    0.0   \n",
       "25%      0.0    0.0    0.0    0.0    0.0    0.0    0.0    0.0    0.0   \n",
       "50%      0.0    0.0    0.0    0.0    0.0    0.0    0.0    0.0    0.0   \n",
       "75%      0.0    0.0    0.0    0.0    0.0    0.0    0.0    0.0    0.0   \n",
       "max      0.0    0.0    0.0    0.0    0.0    0.0    0.0    0.0    0.0   \n",
       "\n",
       "             1756  ...        2053        2078        2080        2081  \\\n",
       "count  309.000000  ...  309.000000  309.000000  309.000000  309.000000   \n",
       "mean    -0.009855  ...   -0.019182   -0.007409   -0.007734   -0.008013   \n",
       "std      0.001922  ...    0.001886    0.001395    0.001462    0.001580   \n",
       "min     -0.013881  ...   -0.025196   -0.014216   -0.015635   -0.015002   \n",
       "25%     -0.011426  ...   -0.020708   -0.008471   -0.008748   -0.009102   \n",
       "50%     -0.009882  ...   -0.018885   -0.007186   -0.007497   -0.007799   \n",
       "75%     -0.008329  ...   -0.017882   -0.006316   -0.006622   -0.006866   \n",
       "max     -0.004256  ...   -0.014741   -0.004140   -0.004840   -0.000360   \n",
       "\n",
       "             2084        2085        2086        2088        2089  diagnostic  \n",
       "count  309.000000  309.000000  309.000000  309.000000  309.000000  309.000000  \n",
       "mean    -0.008650   -0.009461   -0.010260   -0.010716   -0.011097    0.485437  \n",
       "std      0.001612    0.001643    0.001650    0.001475    0.001379    0.500599  \n",
       "min     -0.016397   -0.016355   -0.017492   -0.016863   -0.018024    0.000000  \n",
       "25%     -0.009822   -0.010678   -0.011643   -0.011843   -0.011927    0.000000  \n",
       "50%     -0.008251   -0.009119   -0.009912   -0.010414   -0.010875    0.000000  \n",
       "75%     -0.007493   -0.008167   -0.008990   -0.009615   -0.010049    1.000000  \n",
       "max     -0.002475   -0.006034   -0.006631   -0.007668   -0.008264    1.000000  \n",
       "\n",
       "[8 rows x 32 columns]"
      ]
     },
     "execution_count": 510,
     "metadata": {},
     "output_type": "execute_result"
    }
   ],
   "source": [
    "dataset_r.describe()"
   ]
  },
  {
   "cell_type": "code",
   "execution_count": 511,
   "id": "dfa35764",
   "metadata": {
    "scrolled": true
   },
   "outputs": [
    {
     "data": {
      "image/png": "[encoded data removed]",
      "text/plain": [
       "<Figure size 432x288 with 1 Axes>"
      ]
     },
     "metadata": {
      "needs_background": "light"
     },
     "output_type": "display_data"
    },
    {
     "data": {
      "image/png": "[encoded data removed]",
      "text/plain": [
       "<Figure size 432x288 with 1 Axes>"
      ]
     },
     "metadata": {
      "needs_background": "light"
     },
     "output_type": "display_data"
    },
    {
     "data": {
      "image/png": "[encoded data removed]",
      "text/plain": [
       "<Figure size 432x288 with 1 Axes>"
      ]
     },
     "metadata": {
      "needs_background": "light"
     },
     "output_type": "display_data"
    }
   ],
   "source": [
    "#Sense fer res\n",
    "plt.title('Histograma Dataset')\n",
    "plt.hist(dataset_r)\n",
    "plt.show()\n",
    "\n",
    "#Estandardització \n",
    "scaler = StandardScaler()\n",
    "scaler.fit(dataset_r)\n",
    "standard = scaler.transform(dataset_r)\n",
    "plt.title('Histogram Dataset Estandarditzat')\n",
    "plt.hist(standard)\n",
    "plt.show()\n",
    "\n",
    "#Normalització\n",
    "normal = Normalizer().transform(dataset_r)\n",
    "plt.title('Histograma Dataset Normalitzat')\n",
    "plt.hist(normal)\n",
    "plt.show()"
   ]
  },
  {
   "cell_type": "markdown",
   "id": "e0ea2f44",
   "metadata": {},
   "source": [
    "Com podem veure en els dos histogrames, és molt millor estandarditzar les dades, ja que ens genera una distribuició gaussiana."
   ]
  },
  {
   "cell_type": "markdown",
   "id": "9ada0cb1",
   "metadata": {},
   "source": [
    "## 3.0 Selecció de models\n"
   ]
  },
  {
   "cell_type": "markdown",
   "id": "cc577fa1",
   "metadata": {},
   "source": [
    "En aquest apartat entrenarem i testejarem diferents models per posteriorment comparar els resultats. Primer de tot dividim les dades en train_data i test_data.\n"
   ]
  },
  {
   "cell_type": "code",
   "execution_count": 512,
   "id": "7a08fbb0",
   "metadata": {},
   "outputs": [],
   "source": [
    "data = dataset.values\n",
    "x = data[:, :899]\n",
    "y = dataset['diagnostic'].values\n",
    "x_t, x_v, y_t, y_v = train_test_split(x, y, train_size=0.8)\n",
    "\n",
    "#Estandarditzem\n",
    "scaler = StandardScaler()\n",
    "scaler.fit(x_t)\n",
    "x_t = scaler.transform(x_t)\n",
    "x_v = scaler.transform(x_v)"
   ]
  },
  {
   "cell_type": "markdown",
   "id": "99106f96",
   "metadata": {},
   "source": [
    "### 3.1 Decision Tree:"
   ]
  },
  {
   "cell_type": "markdown",
   "id": "b934a803",
   "metadata": {},
   "source": [
    "Primer de tot, començarem amb un decision tree:"
   ]
  },
  {
   "cell_type": "code",
   "execution_count": 513,
   "id": "d4416789",
   "metadata": {},
   "outputs": [
    {
     "name": "stdout",
     "output_type": "stream",
     "text": [
      "ROC AUC score classification:  0.835978835978836\n"
     ]
    }
   ],
   "source": [
    "clf = DecisionTreeClassifier()\n",
    "clf.fit(x_t,y_t)\n",
    "pred = clf.predict(x_v)\n",
    "print(\"ROC AUC score classification: \", roc_auc_score(y_v, pred))"
   ]
  },
  {
   "cell_type": "markdown",
   "id": "54c81af2",
   "metadata": {},
   "source": [
    "### 3.2 Random Forest:"
   ]
  },
  {
   "cell_type": "code",
   "execution_count": 514,
   "id": "b06bf6e5",
   "metadata": {},
   "outputs": [
    {
     "name": "stdout",
     "output_type": "stream",
     "text": [
      "ROC AUC score classification:  0.9158730158730158\n"
     ]
    }
   ],
   "source": [
    "crf = RandomForestClassifier(random_state = 0)\n",
    "crf = crf.fit(x_t,y_t)\n",
    "pred = crf.predict(x_v)\n",
    "print(\"ROC AUC score classification: \", roc_auc_score(y_v, pred))"
   ]
  },
  {
   "cell_type": "markdown",
   "id": "84ebf25e",
   "metadata": {},
   "source": [
    "### 3.3 Regresor logísitc:"
   ]
  },
  {
   "cell_type": "code",
   "execution_count": 515,
   "id": "2ca11f80",
   "metadata": {},
   "outputs": [
    {
     "name": "stdout",
     "output_type": "stream",
     "text": [
      "ROC AUC score classification:  0.9714285714285714\n"
     ]
    }
   ],
   "source": [
    "clr = LogisticRegression(C=10, fit_intercept=True, penalty='l2', tol=0.001, max_iter=1000000)\n",
    "clr = clr.fit(x_t,y_t)\n",
    "pred = clr.predict(x_v)\n",
    "print(\"ROC AUC score classification: \", roc_auc_score(y_v, pred))"
   ]
  },
  {
   "cell_type": "markdown",
   "id": "08ef83ca",
   "metadata": {},
   "source": [
    "## 4.0 Resultats"
   ]
  },
  {
   "cell_type": "markdown",
   "id": "2d27d39e",
   "metadata": {},
   "source": [
    "Degut a que la base de dades és balancejada compararem els models segons la mètrica AUC aplicant Cross Validation a cada model, a més, utilitzarem RepeatedKFold per a que siguin més fiables les execucions."
   ]
  },
  {
   "cell_type": "code",
   "execution_count": 520,
   "id": "e9a54adb",
   "metadata": {},
   "outputs": [],
   "source": [
    "def crossValidation(model, k, n):\n",
    "    rkf = RepeatedKFold(n_splits=k, n_repeats=n)\n",
    "    scores = cross_val_score(model, x_t, y_t, cv=rkf, scoring=\"roc_auc\")\n",
    "    print(\"%0.2f AUC with a standard deviation of %0.2f\" % (scores.mean(), scores.std()))"
   ]
  },
  {
   "cell_type": "code",
   "execution_count": 521,
   "id": "aac7e803",
   "metadata": {},
   "outputs": [
    {
     "name": "stdout",
     "output_type": "stream",
     "text": [
      "Decision Tree:\n",
      "0.88 AUC with a standard deviation of 0.07\n",
      "==============================\n",
      "Random Forest:\n",
      "0.96 AUC with a standard deviation of 0.04\n",
      "==============================\n",
      "Regresor logístic:\n",
      "0.99 AUC with a standard deviation of 0.01\n"
     ]
    }
   ],
   "source": [
    "#Decision Tree\n",
    "print(\"Decision Tree:\")\n",
    "crossValidation(clf,10,3)\n",
    "print(\"==============================\")\n",
    "#Random Forest\n",
    "print(\"Random Forest:\")\n",
    "crossValidation(crf,10,3)\n",
    "print(\"==============================\")\n",
    "#Regresor logístic\n",
    "print(\"Regresor logístic:\")\n",
    "crossValidation(clr,10,3)"
   ]
  },
  {
   "cell_type": "markdown",
   "id": "0863b8cc",
   "metadata": {},
   "source": [
    "Com podem veure en els resultats de l'execució anterior, el millor model és el Regresor Logísitc amb un AUC de 0.99 i una desviació estàndard de 0.01, és a dir una classificació casi perfecte."
   ]
  }
 ],
 "metadata": {
  "kernelspec": {
   "display_name": "Python 3",
   "language": "python",
   "name": "python3"
  },
  "language_info": {
   "codemirror_mode": {
    "name": "ipython",
    "version": 3
   },
   "file_extension": ".py",
   "mimetype": "text/x-python",
   "name": "python",
   "nbconvert_exporter": "python",
   "pygments_lexer": "ipython3",
   "version": "3.8.8"
  }
 },
 "nbformat": 4,
 "nbformat_minor": 5
}
