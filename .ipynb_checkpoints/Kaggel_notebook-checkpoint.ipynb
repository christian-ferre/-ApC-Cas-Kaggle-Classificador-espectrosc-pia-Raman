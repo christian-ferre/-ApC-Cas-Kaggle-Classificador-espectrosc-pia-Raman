{
 "cells": [
  {
   "cell_type": "markdown",
   "id": "cf1ccdd5",
   "metadata": {},
   "source": [
    "# Cas Kaggle\n",
    "Nom: Christian Ferré Delgado <br/><br/>\n",
    "NIU: 1565129"
   ]
  },
  {
   "cell_type": "markdown",
   "id": "f87bb9e0",
   "metadata": {},
   "source": [
    "## 1. Introducció:"
   ]
  },
  {
   "cell_type": "markdown",
   "id": "ada5aabb",
   "metadata": {},
   "source": [
    "El mètode de diagnòstic recomenat pel coronavirus és una tècnica bassada en qPCR, el problema d'aquesta és que requereix molt de temps, és costós i depèn de la mostra amb una proporció relativament alta de falsos negatius. Per tant, l'objectiu d'aquest estudi va ser desenvolupar un mètode àmpliament disponible, barat i ràpid per diagnosticar la malaltia COVID-19 basat en l'espectroscòpia Raman. Aquesta base de dades recull tots els resultats d'aquests mètode i el diagnòstic final. Per tant, l'objectiu principal és crear un model i veure com de bo és aquest analitzant la variable diagnostic, la qual té dos possibles valors: 'Healthy' per als pacients no infectats i 'SARS-CoV-2' pels pacients infectats."
   ]
  },
  {
   "cell_type": "markdown",
   "id": "5eecd7d8",
   "metadata": {},
   "source": [
    "Base de dades: https://www.kaggle.com/sfran96/raman-spectroscopy-for-detecting-covid19?select=tube_spectra.csv"
   ]
  },
  {
   "cell_type": "markdown",
   "id": "6a44a18d",
   "metadata": {},
   "source": [
    "### Dependències:"
   ]
  },
  {
   "cell_type": "code",
   "execution_count": 174,
   "id": "412236d6",
   "metadata": {},
   "outputs": [],
   "source": [
    "import matplotlib.pyplot as plt\n",
    "\n",
    "import pandas as pd\n",
    "\n",
    "from sklearn.model_selection import train_test_split,GridSearchCV\n",
    "from sklearn.preprocessing import StandardScaler, Normalizer\n",
    "from sklearn.tree import DecisionTreeClassifier\n",
    "from sklearn.ensemble import RandomForestClassifier\n",
    "from sklearn.metrics import roc_auc_score\n",
    "from sklearn.linear_model import LogisticRegression\n",
    "from sklearn.model_selection import cross_val_score\n",
    "from sklearn.model_selection import KFold\n",
    "from sklearn.model_selection import RepeatedKFold\n",
    "\n",
    "import seaborn as sns"
   ]
  },
  {
   "cell_type": "markdown",
   "id": "2f4f6ac2",
   "metadata": {},
   "source": [
    "## 2. Anàlisi de la base de dades:"
   ]
  },
  {
   "cell_type": "markdown",
   "id": "d43956fb",
   "metadata": {},
   "source": [
    "Carreguem el dataset:"
   ]
  },
  {
   "cell_type": "code",
   "execution_count": 175,
   "id": "8e5d7521",
   "metadata": {},
   "outputs": [
    {
     "name": "stdout",
     "output_type": "stream",
     "text": [
      "   400       402       405       407       410       412       415       417  \\\n",
      "0  0.0 -0.015237 -0.030607 -0.038309 -0.039078 -0.035809 -0.031176 -0.030395   \n",
      "1  0.0 -0.012098 -0.028164 -0.035189 -0.036138 -0.031050 -0.026015 -0.027539   \n",
      "2  0.0 -0.013000 -0.029058 -0.035021 -0.034994 -0.033025 -0.028413 -0.028470   \n",
      "3  0.0 -0.015728 -0.034346 -0.045140 -0.047671 -0.044334 -0.040807 -0.040474   \n",
      "4  0.0 -0.020355 -0.045839 -0.060556 -0.065805 -0.064988 -0.062097 -0.061955   \n",
      "\n",
      "        420       422  ...      2101      2103      2104      2105      2107  \\\n",
      "0 -0.033311 -0.031603  ... -0.000553  0.000118  0.000566  0.001245  0.000846   \n",
      "1 -0.028084 -0.027075  ... -0.000998  0.000278 -0.000123  0.000384  0.001010   \n",
      "2 -0.029737 -0.029198  ... -0.001554  0.000050  0.000866  0.000877  0.000871   \n",
      "3 -0.041417 -0.040699  ... -0.001541 -0.000198  0.000202  0.001023  0.000625   \n",
      "4 -0.064759 -0.066886  ... -0.000088  0.000891  0.000942  0.001294  0.001878   \n",
      "\n",
      "       2108      2109      2111  2112  diagnostic  \n",
      "0  0.001106  0.001005  0.000117   0.0     Healthy  \n",
      "1  0.000583 -0.000397 -0.000160   0.0     Healthy  \n",
      "2  0.001093  0.001058  0.000614   0.0     Healthy  \n",
      "3  0.000420  0.000543 -0.000071   0.0     Healthy  \n",
      "4  0.001739  0.001946  0.001301   0.0     Healthy  \n",
      "\n",
      "[5 rows x 901 columns]\n"
     ]
    }
   ],
   "source": [
    "def load_dataset(path):\n",
    "    dataset = pd.read_csv(path, header=0, delimiter=',')\n",
    "    return dataset\n",
    "\n",
    "dataset = load_dataset('covid_and_healthy_spectra.csv')\n",
    "print(dataset.head())"
   ]
  },
  {
   "cell_type": "markdown",
   "id": "977dd924",
   "metadata": {},
   "source": [
    "Comprovem en el tipus d'atributs:"
   ]
  },
  {
   "cell_type": "code",
   "execution_count": 176,
   "id": "87b55ce0",
   "metadata": {},
   "outputs": [
    {
     "data": {
      "text/html": [
       "<div>\n",
       "<style scoped>\n",
       "    .dataframe tbody tr th:only-of-type {\n",
       "        vertical-align: middle;\n",
       "    }\n",
       "\n",
       "    .dataframe tbody tr th {\n",
       "        vertical-align: top;\n",
       "    }\n",
       "\n",
       "    .dataframe thead th {\n",
       "        text-align: right;\n",
       "    }\n",
       "</style>\n",
       "<table border=\"1\" class=\"dataframe\">\n",
       "  <thead>\n",
       "    <tr style=\"text-align: right;\">\n",
       "      <th></th>\n",
       "      <th>400</th>\n",
       "      <th>402</th>\n",
       "      <th>405</th>\n",
       "      <th>407</th>\n",
       "      <th>410</th>\n",
       "      <th>412</th>\n",
       "      <th>415</th>\n",
       "      <th>417</th>\n",
       "      <th>420</th>\n",
       "      <th>422</th>\n",
       "      <th>...</th>\n",
       "      <th>2101</th>\n",
       "      <th>2103</th>\n",
       "      <th>2104</th>\n",
       "      <th>2105</th>\n",
       "      <th>2107</th>\n",
       "      <th>2108</th>\n",
       "      <th>2109</th>\n",
       "      <th>2111</th>\n",
       "      <th>2112</th>\n",
       "      <th>diagnostic</th>\n",
       "    </tr>\n",
       "  </thead>\n",
       "  <tbody>\n",
       "    <tr>\n",
       "      <th>Type</th>\n",
       "      <td>float64</td>\n",
       "      <td>float64</td>\n",
       "      <td>float64</td>\n",
       "      <td>float64</td>\n",
       "      <td>float64</td>\n",
       "      <td>float64</td>\n",
       "      <td>float64</td>\n",
       "      <td>float64</td>\n",
       "      <td>float64</td>\n",
       "      <td>float64</td>\n",
       "      <td>...</td>\n",
       "      <td>float64</td>\n",
       "      <td>float64</td>\n",
       "      <td>float64</td>\n",
       "      <td>float64</td>\n",
       "      <td>float64</td>\n",
       "      <td>float64</td>\n",
       "      <td>float64</td>\n",
       "      <td>float64</td>\n",
       "      <td>float64</td>\n",
       "      <td>object</td>\n",
       "    </tr>\n",
       "  </tbody>\n",
       "</table>\n",
       "<p>1 rows × 901 columns</p>\n",
       "</div>"
      ],
      "text/plain": [
       "          400      402      405      407      410      412      415      417  \\\n",
       "Type  float64  float64  float64  float64  float64  float64  float64  float64   \n",
       "\n",
       "          420      422  ...     2101     2103     2104     2105     2107  \\\n",
       "Type  float64  float64  ...  float64  float64  float64  float64  float64   \n",
       "\n",
       "         2108     2109     2111     2112 diagnostic  \n",
       "Type  float64  float64  float64  float64     object  \n",
       "\n",
       "[1 rows x 901 columns]"
      ]
     },
     "execution_count": 176,
     "metadata": {},
     "output_type": "execute_result"
    }
   ],
   "source": [
    "dataset.dtypes.to_frame(\"Type\").T"
   ]
  },
  {
   "cell_type": "markdown",
   "id": "27698e1f",
   "metadata": {},
   "source": [
    "Podem observar que tots són del tipus float64 menys l'atribut objectiu que és del tipus object. Per tant, cambiarem els valors de la nostre variable objectiu('diagnostic'), és a dir, cambiarem 'Healthy' per '1' i 'SARS-CoV-2' per '0' per cambiar la variable de tipus object a int."
   ]
  },
  {
   "cell_type": "code",
   "execution_count": 177,
   "id": "d1c4de78",
   "metadata": {},
   "outputs": [
    {
     "name": "stdout",
     "output_type": "stream",
     "text": [
      "0      1\n",
      "1      1\n",
      "2      1\n",
      "3      1\n",
      "4      1\n",
      "      ..\n",
      "304    0\n",
      "305    0\n",
      "306    0\n",
      "307    0\n",
      "308    0\n",
      "Name: diagnostic, Length: 309, dtype: int64\n"
     ]
    }
   ],
   "source": [
    "dataset['diagnostic'].replace(['Healthy', 'SARS-CoV-2'],[1,0],inplace=True)\n",
    "print(dataset['diagnostic'])"
   ]
  },
  {
   "cell_type": "markdown",
   "id": "fec05074",
   "metadata": {},
   "source": [
    "Comprovem si ha valors nuls:"
   ]
  },
  {
   "cell_type": "code",
   "execution_count": 178,
   "id": "f82bd04c",
   "metadata": {},
   "outputs": [
    {
     "name": "stdout",
     "output_type": "stream",
     "text": [
      "Is there NaN values? False\n"
     ]
    }
   ],
   "source": [
    "print(\"Is there NaN values?\",  dataset.isnull().values.any()) "
   ]
  },
  {
   "cell_type": "markdown",
   "id": "09f16650",
   "metadata": {},
   "source": [
    "Com podem observar en el resultat anterior, com no hi han valors nuls, no hem de tractar-los."
   ]
  },
  {
   "cell_type": "markdown",
   "id": "828c9857",
   "metadata": {},
   "source": [
    "També ens interesarà reduir el nombre de columnes, ja que tenim un nombre excessiu de variables, tal i com podem veure en la següent execució:"
   ]
  },
  {
   "cell_type": "code",
   "execution_count": 179,
   "id": "ed81ec5d",
   "metadata": {},
   "outputs": [
    {
     "name": "stdout",
     "output_type": "stream",
     "text": [
      "Número total de dades:  309\n",
      "Número total d'atributs:  901\n"
     ]
    }
   ],
   "source": [
    "print(\"Número total de dades: \", dataset.shape[0])\n",
    "print(\"Número total d'atributs: \", dataset.shape[1])"
   ]
  },
  {
   "cell_type": "markdown",
   "id": "93672411",
   "metadata": {},
   "source": [
    "A més, per veure si la base de dades és desbalancejada comptarem el nombre de 1 i 0 de possibles sortides:"
   ]
  },
  {
   "cell_type": "code",
   "execution_count": 180,
   "id": "ce3a3c2d",
   "metadata": {},
   "outputs": [
    {
     "name": "stdout",
     "output_type": "stream",
     "text": [
      "0    159\n",
      "1    150\n",
      "Name: diagnostic, dtype: int64\n"
     ]
    }
   ],
   "source": [
    "item_count = dataset[\"diagnostic\"].value_counts()\n",
    "print(item_count)"
   ]
  },
  {
   "cell_type": "markdown",
   "id": "be3441ac",
   "metadata": {},
   "source": [
    "Per sort, tenim la base de dades balancejada ja que un 50% de les dades tenen com a valor de l'atribut 'diagnostic' 1 i la resta 0. Per consegüent, ens estalviem haver de tractar-ho."
   ]
  },
  {
   "cell_type": "markdown",
   "id": "8d03d3ee",
   "metadata": {},
   "source": [
    "### 2.1 Correlació de dades:"
   ]
  },
  {
   "cell_type": "markdown",
   "id": "b2aad0d3",
   "metadata": {},
   "source": [
    "Ara veurem la correlació entre les variables que tinguin més i menys correlació amb 'diagnostic':"
   ]
  },
  {
   "cell_type": "code",
   "execution_count": 181,
   "id": "278b73a8",
   "metadata": {},
   "outputs": [
    {
     "name": "stdout",
     "output_type": "stream",
     "text": [
      "diagnostic    1.000000\n",
      "2085          0.714829\n",
      "2086          0.694169\n",
      "2080          0.683209\n",
      "2084          0.678898\n",
      "2088          0.669515\n",
      "2078          0.668636\n",
      "2081          0.651142\n",
      "1995          0.634188\n",
      "1757          0.631542\n",
      "1761          0.630211\n",
      "2048          0.629639\n",
      "1759          0.625877\n",
      "2046          0.623862\n",
      "1780          0.619791\n",
      "1996          0.611250\n",
      "1756          0.611148\n",
      "2053          0.608785\n",
      "1998          0.606318\n",
      "2049          0.605902\n",
      "2089          0.605471\n",
      "2021          0.605216\n",
      "1779          0.602798\n",
      "2050          0.596201\n",
      "2077          0.596000\n",
      "2019          0.588424\n",
      "2018          0.585161\n",
      "2017          0.583929\n",
      "2045          0.581895\n",
      "2052          0.581544\n",
      "Name: diagnostic, dtype: float64\n"
     ]
    }
   ],
   "source": [
    "#Variables amb més correlació\n",
    "corr = dataset.corr()['diagnostic'].sort_values(ascending=False)\n",
    "print(corr[:30])"
   ]
  },
  {
   "cell_type": "code",
   "execution_count": 182,
   "id": "a953aefd",
   "metadata": {},
   "outputs": [
    {
     "name": "stdout",
     "output_type": "stream",
     "text": [
      "1023   -0.526906\n",
      "891    -0.526776\n",
      "984    -0.519556\n",
      "1021   -0.504692\n",
      "989    -0.491037\n",
      "1539   -0.490564\n",
      "1074   -0.487841\n",
      "893    -0.487153\n",
      "986    -0.480830\n",
      "452    -0.480723\n",
      "1357   -0.480650\n",
      "449    -0.473336\n",
      "888    -0.469795\n",
      "1541   -0.466561\n",
      "1071   -0.461247\n",
      "1019   -0.457248\n",
      "1025   -0.453722\n",
      "454    -0.448642\n",
      "447    -0.445941\n",
      "410    -0.442586\n",
      "908    -0.440788\n",
      "412    -0.439807\n",
      "991    -0.436810\n",
      "801    -0.434529\n",
      "799    -0.433725\n",
      "926    -0.431865\n",
      "915    -0.429972\n",
      "1016   -0.429802\n",
      "1543   -0.422325\n",
      "407    -0.421254\n",
      "Name: diagnostic, dtype: float64\n"
     ]
    }
   ],
   "source": [
    "#Variables amb menys correlació:\n",
    "corr = dataset.corr()['diagnostic'].sort_values(ascending=True)\n",
    "print(corr[:30])"
   ]
  },
  {
   "cell_type": "markdown",
   "id": "a1b508b3",
   "metadata": {},
   "source": [
    "### 2.2 Normalització de dades:"
   ]
  },
  {
   "cell_type": "code",
   "execution_count": 183,
   "id": "22918660",
   "metadata": {},
   "outputs": [
    {
     "data": {
      "text/html": [
       "<div>\n",
       "<style scoped>\n",
       "    .dataframe tbody tr th:only-of-type {\n",
       "        vertical-align: middle;\n",
       "    }\n",
       "\n",
       "    .dataframe tbody tr th {\n",
       "        vertical-align: top;\n",
       "    }\n",
       "\n",
       "    .dataframe thead th {\n",
       "        text-align: right;\n",
       "    }\n",
       "</style>\n",
       "<table border=\"1\" class=\"dataframe\">\n",
       "  <thead>\n",
       "    <tr style=\"text-align: right;\">\n",
       "      <th></th>\n",
       "      <th>400</th>\n",
       "      <th>402</th>\n",
       "      <th>405</th>\n",
       "      <th>407</th>\n",
       "      <th>410</th>\n",
       "      <th>412</th>\n",
       "      <th>415</th>\n",
       "      <th>417</th>\n",
       "      <th>420</th>\n",
       "      <th>422</th>\n",
       "      <th>...</th>\n",
       "      <th>2101</th>\n",
       "      <th>2103</th>\n",
       "      <th>2104</th>\n",
       "      <th>2105</th>\n",
       "      <th>2107</th>\n",
       "      <th>2108</th>\n",
       "      <th>2109</th>\n",
       "      <th>2111</th>\n",
       "      <th>2112</th>\n",
       "      <th>diagnostic</th>\n",
       "    </tr>\n",
       "  </thead>\n",
       "  <tbody>\n",
       "    <tr>\n",
       "      <th>count</th>\n",
       "      <td>309.0</td>\n",
       "      <td>309.000000</td>\n",
       "      <td>309.000000</td>\n",
       "      <td>309.000000</td>\n",
       "      <td>309.000000</td>\n",
       "      <td>309.000000</td>\n",
       "      <td>309.000000</td>\n",
       "      <td>309.000000</td>\n",
       "      <td>309.000000</td>\n",
       "      <td>309.000000</td>\n",
       "      <td>...</td>\n",
       "      <td>309.000000</td>\n",
       "      <td>309.000000</td>\n",
       "      <td>309.000000</td>\n",
       "      <td>309.000000</td>\n",
       "      <td>309.000000</td>\n",
       "      <td>309.000000</td>\n",
       "      <td>309.000000</td>\n",
       "      <td>309.000000</td>\n",
       "      <td>3.090000e+02</td>\n",
       "      <td>309.000000</td>\n",
       "    </tr>\n",
       "    <tr>\n",
       "      <th>mean</th>\n",
       "      <td>0.0</td>\n",
       "      <td>-0.015380</td>\n",
       "      <td>-0.029039</td>\n",
       "      <td>-0.034453</td>\n",
       "      <td>-0.034902</td>\n",
       "      <td>-0.032640</td>\n",
       "      <td>-0.029887</td>\n",
       "      <td>-0.029552</td>\n",
       "      <td>-0.030194</td>\n",
       "      <td>-0.029093</td>\n",
       "      <td>...</td>\n",
       "      <td>-0.000781</td>\n",
       "      <td>0.000078</td>\n",
       "      <td>0.000814</td>\n",
       "      <td>0.001197</td>\n",
       "      <td>0.001420</td>\n",
       "      <td>0.001327</td>\n",
       "      <td>0.000953</td>\n",
       "      <td>0.000617</td>\n",
       "      <td>1.437182e-19</td>\n",
       "      <td>0.485437</td>\n",
       "    </tr>\n",
       "    <tr>\n",
       "      <th>std</th>\n",
       "      <td>0.0</td>\n",
       "      <td>0.004866</td>\n",
       "      <td>0.009268</td>\n",
       "      <td>0.012563</td>\n",
       "      <td>0.014003</td>\n",
       "      <td>0.014396</td>\n",
       "      <td>0.014464</td>\n",
       "      <td>0.014713</td>\n",
       "      <td>0.015658</td>\n",
       "      <td>0.016331</td>\n",
       "      <td>...</td>\n",
       "      <td>0.000853</td>\n",
       "      <td>0.000893</td>\n",
       "      <td>0.000901</td>\n",
       "      <td>0.000929</td>\n",
       "      <td>0.000931</td>\n",
       "      <td>0.000844</td>\n",
       "      <td>0.000820</td>\n",
       "      <td>0.000701</td>\n",
       "      <td>2.997270e-18</td>\n",
       "      <td>0.500599</td>\n",
       "    </tr>\n",
       "    <tr>\n",
       "      <th>min</th>\n",
       "      <td>0.0</td>\n",
       "      <td>-0.034126</td>\n",
       "      <td>-0.060028</td>\n",
       "      <td>-0.074953</td>\n",
       "      <td>-0.078206</td>\n",
       "      <td>-0.080790</td>\n",
       "      <td>-0.078527</td>\n",
       "      <td>-0.078364</td>\n",
       "      <td>-0.082074</td>\n",
       "      <td>-0.083183</td>\n",
       "      <td>...</td>\n",
       "      <td>-0.004929</td>\n",
       "      <td>-0.004931</td>\n",
       "      <td>-0.005235</td>\n",
       "      <td>-0.005087</td>\n",
       "      <td>-0.005610</td>\n",
       "      <td>-0.003002</td>\n",
       "      <td>-0.001769</td>\n",
       "      <td>-0.001797</td>\n",
       "      <td>-1.110223e-17</td>\n",
       "      <td>0.000000</td>\n",
       "    </tr>\n",
       "    <tr>\n",
       "      <th>25%</th>\n",
       "      <td>0.0</td>\n",
       "      <td>-0.018181</td>\n",
       "      <td>-0.034307</td>\n",
       "      <td>-0.041575</td>\n",
       "      <td>-0.042218</td>\n",
       "      <td>-0.039065</td>\n",
       "      <td>-0.035558</td>\n",
       "      <td>-0.035993</td>\n",
       "      <td>-0.038297</td>\n",
       "      <td>-0.037123</td>\n",
       "      <td>...</td>\n",
       "      <td>-0.001307</td>\n",
       "      <td>-0.000415</td>\n",
       "      <td>0.000345</td>\n",
       "      <td>0.000721</td>\n",
       "      <td>0.000960</td>\n",
       "      <td>0.000858</td>\n",
       "      <td>0.000472</td>\n",
       "      <td>0.000217</td>\n",
       "      <td>0.000000e+00</td>\n",
       "      <td>0.000000</td>\n",
       "    </tr>\n",
       "    <tr>\n",
       "      <th>50%</th>\n",
       "      <td>0.0</td>\n",
       "      <td>-0.014863</td>\n",
       "      <td>-0.028215</td>\n",
       "      <td>-0.033517</td>\n",
       "      <td>-0.033892</td>\n",
       "      <td>-0.030718</td>\n",
       "      <td>-0.028413</td>\n",
       "      <td>-0.027639</td>\n",
       "      <td>-0.028696</td>\n",
       "      <td>-0.027925</td>\n",
       "      <td>...</td>\n",
       "      <td>-0.000714</td>\n",
       "      <td>0.000110</td>\n",
       "      <td>0.000799</td>\n",
       "      <td>0.001217</td>\n",
       "      <td>0.001439</td>\n",
       "      <td>0.001391</td>\n",
       "      <td>0.001023</td>\n",
       "      <td>0.000665</td>\n",
       "      <td>0.000000e+00</td>\n",
       "      <td>0.000000</td>\n",
       "    </tr>\n",
       "    <tr>\n",
       "      <th>75%</th>\n",
       "      <td>0.0</td>\n",
       "      <td>-0.012075</td>\n",
       "      <td>-0.022868</td>\n",
       "      <td>-0.025739</td>\n",
       "      <td>-0.025721</td>\n",
       "      <td>-0.023546</td>\n",
       "      <td>-0.020764</td>\n",
       "      <td>-0.020656</td>\n",
       "      <td>-0.020443</td>\n",
       "      <td>-0.018591</td>\n",
       "      <td>...</td>\n",
       "      <td>-0.000292</td>\n",
       "      <td>0.000583</td>\n",
       "      <td>0.001288</td>\n",
       "      <td>0.001754</td>\n",
       "      <td>0.001949</td>\n",
       "      <td>0.001818</td>\n",
       "      <td>0.001466</td>\n",
       "      <td>0.001109</td>\n",
       "      <td>0.000000e+00</td>\n",
       "      <td>1.000000</td>\n",
       "    </tr>\n",
       "    <tr>\n",
       "      <th>max</th>\n",
       "      <td>0.0</td>\n",
       "      <td>-0.002219</td>\n",
       "      <td>-0.006413</td>\n",
       "      <td>-0.006682</td>\n",
       "      <td>-0.004706</td>\n",
       "      <td>0.000129</td>\n",
       "      <td>0.005030</td>\n",
       "      <td>0.008210</td>\n",
       "      <td>0.010452</td>\n",
       "      <td>0.010410</td>\n",
       "      <td>...</td>\n",
       "      <td>0.003037</td>\n",
       "      <td>0.003548</td>\n",
       "      <td>0.003594</td>\n",
       "      <td>0.004018</td>\n",
       "      <td>0.003570</td>\n",
       "      <td>0.003849</td>\n",
       "      <td>0.003291</td>\n",
       "      <td>0.002451</td>\n",
       "      <td>2.220446e-17</td>\n",
       "      <td>1.000000</td>\n",
       "    </tr>\n",
       "  </tbody>\n",
       "</table>\n",
       "<p>8 rows × 901 columns</p>\n",
       "</div>"
      ],
      "text/plain": [
       "         400         402         405         407         410         412  \\\n",
       "count  309.0  309.000000  309.000000  309.000000  309.000000  309.000000   \n",
       "mean     0.0   -0.015380   -0.029039   -0.034453   -0.034902   -0.032640   \n",
       "std      0.0    0.004866    0.009268    0.012563    0.014003    0.014396   \n",
       "min      0.0   -0.034126   -0.060028   -0.074953   -0.078206   -0.080790   \n",
       "25%      0.0   -0.018181   -0.034307   -0.041575   -0.042218   -0.039065   \n",
       "50%      0.0   -0.014863   -0.028215   -0.033517   -0.033892   -0.030718   \n",
       "75%      0.0   -0.012075   -0.022868   -0.025739   -0.025721   -0.023546   \n",
       "max      0.0   -0.002219   -0.006413   -0.006682   -0.004706    0.000129   \n",
       "\n",
       "              415         417         420         422  ...        2101  \\\n",
       "count  309.000000  309.000000  309.000000  309.000000  ...  309.000000   \n",
       "mean    -0.029887   -0.029552   -0.030194   -0.029093  ...   -0.000781   \n",
       "std      0.014464    0.014713    0.015658    0.016331  ...    0.000853   \n",
       "min     -0.078527   -0.078364   -0.082074   -0.083183  ...   -0.004929   \n",
       "25%     -0.035558   -0.035993   -0.038297   -0.037123  ...   -0.001307   \n",
       "50%     -0.028413   -0.027639   -0.028696   -0.027925  ...   -0.000714   \n",
       "75%     -0.020764   -0.020656   -0.020443   -0.018591  ...   -0.000292   \n",
       "max      0.005030    0.008210    0.010452    0.010410  ...    0.003037   \n",
       "\n",
       "             2103        2104        2105        2107        2108        2109  \\\n",
       "count  309.000000  309.000000  309.000000  309.000000  309.000000  309.000000   \n",
       "mean     0.000078    0.000814    0.001197    0.001420    0.001327    0.000953   \n",
       "std      0.000893    0.000901    0.000929    0.000931    0.000844    0.000820   \n",
       "min     -0.004931   -0.005235   -0.005087   -0.005610   -0.003002   -0.001769   \n",
       "25%     -0.000415    0.000345    0.000721    0.000960    0.000858    0.000472   \n",
       "50%      0.000110    0.000799    0.001217    0.001439    0.001391    0.001023   \n",
       "75%      0.000583    0.001288    0.001754    0.001949    0.001818    0.001466   \n",
       "max      0.003548    0.003594    0.004018    0.003570    0.003849    0.003291   \n",
       "\n",
       "             2111          2112  diagnostic  \n",
       "count  309.000000  3.090000e+02  309.000000  \n",
       "mean     0.000617  1.437182e-19    0.485437  \n",
       "std      0.000701  2.997270e-18    0.500599  \n",
       "min     -0.001797 -1.110223e-17    0.000000  \n",
       "25%      0.000217  0.000000e+00    0.000000  \n",
       "50%      0.000665  0.000000e+00    0.000000  \n",
       "75%      0.001109  0.000000e+00    1.000000  \n",
       "max      0.002451  2.220446e-17    1.000000  \n",
       "\n",
       "[8 rows x 901 columns]"
      ]
     },
     "execution_count": 183,
     "metadata": {},
     "output_type": "execute_result"
    }
   ],
   "source": [
    "dataset.describe()"
   ]
  },
  {
   "cell_type": "code",
   "execution_count": 184,
   "id": "dfa35764",
   "metadata": {
    "scrolled": true
   },
   "outputs": [
    {
     "data": {
      "image/png": "[encoded data removed]",
      "text/plain": [
       "<Figure size 432x288 with 1 Axes>"
      ]
     },
     "metadata": {
      "needs_background": "light"
     },
     "output_type": "display_data"
    },
    {
     "data": {
      "image/png": "[encoded data removed]",
      "text/plain": [
       "<Figure size 432x288 with 1 Axes>"
      ]
     },
     "metadata": {
      "needs_background": "light"
     },
     "output_type": "display_data"
    },
    {
     "data": {
      "image/png": "[encoded data removed]",
      "text/plain": [
       "<Figure size 432x288 with 1 Axes>"
      ]
     },
     "metadata": {
      "needs_background": "light"
     },
     "output_type": "display_data"
    }
   ],
   "source": [
    "#Sense fer res\n",
    "plt.title('Histograma Dataset')\n",
    "plt.hist(dataset)\n",
    "plt.show()\n",
    "\n",
    "#Estandardització \n",
    "scaler = StandardScaler()\n",
    "scaler.fit(dataset)\n",
    "standard = scaler.transform(dataset)\n",
    "plt.title('Histogram Dataset Estandarditzat')\n",
    "plt.hist(standard)\n",
    "plt.show()\n",
    "\n",
    "#Normalització\n",
    "normal = Normalizer().transform(dataset)\n",
    "plt.title('Histograma Dataset Normalitzat')\n",
    "plt.hist(normal)\n",
    "plt.show()"
   ]
  },
  {
   "cell_type": "markdown",
   "id": "e0ea2f44",
   "metadata": {},
   "source": [
    "Com podem veure en els dos histogrames, és molt millor estandarditzar les dades, ja que ens genera una distribuició gaussiana."
   ]
  },
  {
   "cell_type": "markdown",
   "id": "9ada0cb1",
   "metadata": {},
   "source": [
    "## 3.0 Selecció de models\n"
   ]
  },
  {
   "cell_type": "markdown",
   "id": "cc577fa1",
   "metadata": {},
   "source": [
    "En aquest apartat entrenarem i testejarem diferents models per posteriorment comparar els resultats. Primer de tot dividim les dades en train_data i test_data.\n"
   ]
  },
  {
   "cell_type": "code",
   "execution_count": 185,
   "id": "7a08fbb0",
   "metadata": {},
   "outputs": [],
   "source": [
    "data = dataset.values\n",
    "x = data[:, :899]\n",
    "y = dataset['diagnostic'].values\n",
    "x_t, x_v, y_t, y_v = train_test_split(x, y, train_size=0.8,shuffle=True)\n",
    "\n",
    "#Estandarditzem\n",
    "scaler = StandardScaler()\n",
    "scaler.fit(x_t)\n",
    "x_t = scaler.transform(x_t)\n",
    "x_v = scaler.transform(x_v)"
   ]
  },
  {
   "cell_type": "markdown",
   "id": "99106f96",
   "metadata": {},
   "source": [
    "### 3.1 Decision Tree amb cerca d'hiperparàmetres:"
   ]
  },
  {
   "cell_type": "markdown",
   "id": "b934a803",
   "metadata": {},
   "source": [
    "Primer de tot, començarem amb un decision tree:"
   ]
  },
  {
   "cell_type": "code",
   "execution_count": 186,
   "id": "df84d524",
   "metadata": {},
   "outputs": [
    {
     "name": "stdout",
     "output_type": "stream",
     "text": [
      "Fitting 10 folds for each of 648 candidates, totalling 6480 fits\n"
     ]
    },
    {
     "name": "stderr",
     "output_type": "stream",
     "text": [
      "C:\\Users\\chris\\anaconda3\\lib\\site-packages\\sklearn\\model_selection\\_search.py:918: UserWarning: One or more of the test scores are non-finite: [       nan 0.87948718 0.87948718 0.87948718 0.87948718 0.87948718\n",
      " 0.87948718 0.87948718 0.87948718        nan 0.87948718 0.87948718\n",
      " 0.87948718 0.87948718 0.87948718 0.87948718 0.87948718 0.87948718\n",
      "        nan 0.87948718 0.87948718 0.87948718 0.87948718 0.87948718\n",
      " 0.87948718 0.87948718 0.87948718        nan 0.87948718 0.87948718\n",
      " 0.87948718 0.87948718 0.87948718 0.87948718 0.87948718 0.87948718\n",
      "        nan 0.89393697 0.89874466 0.91060363 0.88624466 0.89874466\n",
      " 0.8897703  0.90291132 0.89041132        nan 0.89041132 0.89874466\n",
      " 0.91124466 0.91124466 0.91060363 0.88560363 0.9022703  0.89041132\n",
      "        nan 0.89041132 0.90707799 0.89810363 0.89041132 0.9022703\n",
      " 0.88624466 0.89457799 0.88624466        nan 0.90291132 0.89874466\n",
      " 0.89457799 0.88560363 0.8897703  0.89041132 0.88624466 0.91060363\n",
      "        nan 0.86570513 0.87852564 0.86923077 0.85996261 0.86891026\n",
      " 0.88108974 0.90448718 0.86698718        nan 0.87083333 0.9\n",
      " 0.90064103 0.85448718 0.84220085 0.88942308 0.87013889 0.87374466\n",
      "        nan 0.87099359 0.88637821 0.88445513 0.88028846 0.89182692\n",
      " 0.8838141  0.88774038 0.88229167        nan 0.87807158 0.88229167\n",
      " 0.90288462 0.89901175 0.90515491 0.88928953 0.89922543 0.88768697\n",
      "        nan 0.85101496 0.85157585 0.8553953  0.87115385 0.88814103\n",
      " 0.8647703  0.88135684 0.84866453        nan 0.87524038 0.86850962\n",
      " 0.86461004 0.85307158 0.8636485  0.8764156  0.88998397 0.88512286\n",
      "        nan 0.87753739 0.88223825 0.88496261 0.89350962 0.88186432\n",
      " 0.88939637 0.89190705 0.88469551        nan 0.88165064 0.87550748\n",
      " 0.89428419 0.89879808 0.89415064 0.88357372 0.89788996 0.87935363\n",
      "        nan 0.85173611 0.83758013 0.84879808 0.85422009 0.87660256\n",
      " 0.84473825 0.8747062  0.86439637        nan 0.84246795 0.87956731\n",
      " 0.85774573 0.84161325 0.87254274 0.85619658 0.87232906 0.87417201\n",
      "        nan 0.8636485  0.86348825 0.8446047  0.87422543 0.86260684\n",
      " 0.87021902 0.87123397 0.87657585        nan 0.88488248 0.86639957\n",
      " 0.87297009 0.86663996 0.87508013 0.88031517 0.89799679 0.87195513\n",
      "        nan 0.86346154 0.86412927 0.84839744 0.84102564 0.84810363\n",
      " 0.86888355 0.87871261 0.88942308        nan 0.84666132 0.85830662\n",
      " 0.82419872 0.87323718 0.86717415 0.88993056 0.85560897 0.85873397\n",
      "        nan 0.87524038 0.88026175 0.87735043 0.87574786 0.88926282\n",
      " 0.85566239 0.88832799 0.87601496        nan 0.87879274 0.88170406\n",
      " 0.87291667 0.88183761 0.88410791 0.88389423 0.88063568 0.87716346\n",
      "        nan 0.85381944 0.86567842 0.86084402 0.85918803 0.83162393\n",
      " 0.86944444 0.88547009 0.87126068        nan 0.84837073 0.87622863\n",
      " 0.85304487 0.84513889 0.88715278 0.87817842 0.87163462 0.86145833\n",
      "        nan 0.86842949 0.86674679 0.8809562  0.86653312 0.88648504\n",
      " 0.87037927 0.88036859 0.86738782        nan 0.8806891  0.87208868\n",
      " 0.89305556 0.89738248 0.89065171 0.87401175 0.87975427 0.87393162\n",
      "        nan 0.85833333 0.8224359  0.86848291 0.86020299 0.87622863\n",
      " 0.88520299 0.87676282 0.89385684        nan 0.86629274 0.86367521\n",
      " 0.84770299 0.87881944 0.85219017 0.86087073 0.88004808 0.85499466\n",
      "        nan 0.8704594  0.88290598 0.87459936 0.87118056 0.85686432\n",
      " 0.88392094 0.8795406  0.86124466        nan 0.87881944 0.87366453\n",
      " 0.87171474 0.88803419 0.86952457 0.87711004 0.87892628 0.88389423\n",
      "        nan 0.85       0.84230769 0.87334402 0.85566239 0.87104701\n",
      " 0.86821581 0.86292735 0.87943376        nan 0.8684562  0.83683226\n",
      " 0.86535791 0.84930556 0.89193376 0.86055021 0.90122863 0.86685363\n",
      "        nan 0.89895833 0.87617521 0.87743056 0.87702991 0.88394765\n",
      " 0.86247329 0.86680021 0.89861111        nan 0.88133013 0.87972756\n",
      " 0.88327991 0.88229167 0.88584402 0.88071581 0.87029915 0.88987714\n",
      "        nan 0.85032051 0.85032051 0.85032051 0.85032051 0.85032051\n",
      " 0.85032051 0.85032051 0.85032051        nan 0.85032051 0.85032051\n",
      " 0.85032051 0.85032051 0.85032051 0.85032051 0.85032051 0.85032051\n",
      "        nan 0.85032051 0.85032051 0.85032051 0.85032051 0.85032051\n",
      " 0.85032051 0.85032051 0.85032051        nan 0.85032051 0.85032051\n",
      " 0.85032051 0.85032051 0.85032051 0.85032051 0.85032051 0.85032051\n",
      "        nan 0.88357372 0.88234509 0.88234509 0.88581731 0.88357372\n",
      " 0.88581731 0.89415064 0.88234509        nan 0.88357372 0.88581731\n",
      " 0.88357372 0.87176816 0.88581731 0.87524038 0.87176816 0.87176816\n",
      "        nan 0.89415064 0.88229167 0.88357372 0.89067842 0.89003739\n",
      " 0.89003739 0.89003739 0.89415064        nan 0.8801015  0.8801015\n",
      " 0.89067842 0.89003739 0.89415064 0.89415064 0.8801015  0.89067842\n",
      "        nan 0.85969551 0.85221688 0.84238782 0.85093483 0.86028312\n",
      " 0.86535791 0.85964209 0.87176816        nan 0.86188568 0.85996261\n",
      " 0.86380876 0.87668269 0.86247329 0.88245192 0.86829594 0.87305021\n",
      "        nan 0.87572115 0.88373397 0.86375534 0.871875   0.87860577\n",
      " 0.87572115 0.87379808 0.88747329        nan 0.87796474 0.88277244\n",
      " 0.88469551 0.88886218 0.87155449 0.88373397 0.89623397 0.88469551\n",
      "        nan 0.86319444 0.85646368 0.87080662 0.85811966 0.87411859\n",
      " 0.86877671 0.87251603 0.87430556        nan 0.86765491 0.85486111\n",
      " 0.86543803 0.84591346 0.86709402 0.87195513 0.86808226 0.86909722\n",
      "        nan 0.87382479 0.88338675 0.87430556 0.88659188 0.8650641\n",
      " 0.87761752 0.89011752 0.89236111        nan 0.87975427 0.88146368\n",
      " 0.87735043 0.86634615 0.88023504 0.87799145 0.87761752 0.89097222\n",
      "        nan 0.83995726 0.86271368 0.85531517 0.84954594 0.84674145\n",
      " 0.86012286 0.86490385 0.8735844         nan 0.85659722 0.85245726\n",
      " 0.83896902 0.85211004 0.85849359 0.84350962 0.86300748 0.8735844\n",
      "        nan 0.86359509 0.84826389 0.86105769 0.85940171 0.86613248\n",
      " 0.86324786 0.87486645 0.86594551        nan 0.87387821 0.87230235\n",
      " 0.86909722 0.87542735 0.86717415 0.8667735  0.86145833 0.88215812\n",
      "        nan 0.84679487 0.85544872 0.85512821 0.8349359  0.85096154\n",
      " 0.83071581 0.85093483 0.86535791        nan 0.85219017 0.85154915\n",
      " 0.85432692 0.86399573 0.85833333 0.85606303 0.85440705 0.8556891\n",
      "        nan 0.86308761 0.87174145 0.86439637 0.86084402 0.86113782\n",
      " 0.85729167 0.85689103 0.87075321        nan 0.86658654 0.878125\n",
      " 0.87048611 0.86017628 0.86594551 0.86175214 0.86244658 0.88549679\n",
      "        nan 0.8474359  0.84391026 0.8474359  0.83461538 0.85512821\n",
      " 0.8477297  0.84740919 0.86821581        nan 0.86567842 0.85061432\n",
      " 0.85897436 0.84615385 0.84871795 0.85702457 0.85478098 0.87593483\n",
      "        nan 0.86696047 0.85600962 0.85990919 0.85737179 0.86119124\n",
      " 0.87011218 0.87433226 0.87048611        nan 0.86241987 0.878125\n",
      " 0.87454594 0.86949786 0.88135684 0.8755609  0.85830662 0.87780449\n",
      "        nan 0.84294872 0.84711538 0.84711538 0.85929487 0.85576923\n",
      " 0.86407585 0.86728098 0.86183226        nan 0.83843483 0.84965278\n",
      " 0.85349893 0.84839744 0.84388355 0.84292201 0.84580662 0.84740919\n",
      "        nan 0.86722756 0.84831731 0.87110043 0.85705128 0.86538462\n",
      " 0.86530449 0.86594551 0.87844551        nan 0.85988248 0.88293269\n",
      " 0.86621261 0.87043269 0.88004808 0.86370192 0.87427885 0.8755609\n",
      "        nan 0.84262821 0.85064103 0.85096154 0.86730769 0.85576923\n",
      " 0.85606303 0.85924145 0.85670406        nan 0.8576656  0.83653846\n",
      " 0.85032051 0.84805021 0.86987179 0.85542201 0.85926816 0.85958868\n",
      "        nan 0.85865385 0.86498397 0.85504808 0.85315171 0.84837073\n",
      " 0.8502938  0.85408654 0.86439637        nan 0.86113782 0.87847222\n",
      " 0.87844551 0.87524038 0.85574252 0.86239316 0.85248397 0.87780449]\n",
      "  warnings.warn(\n"
     ]
    },
    {
     "data": {
      "text/plain": [
       "GridSearchCV(cv=10, estimator=DecisionTreeClassifier(), n_jobs=-1,\n",
       "             param_grid={'criterion': ['gini', 'entropy'],\n",
       "                         'max_depth': range(1, 10),\n",
       "                         'min_samples_leaf': range(1, 5),\n",
       "                         'min_samples_split': range(1, 10)},\n",
       "             scoring='roc_auc', verbose=1)"
      ]
     },
     "execution_count": 186,
     "metadata": {},
     "output_type": "execute_result"
    }
   ],
   "source": [
    "#Creem el model:\n",
    "cdt = DecisionTreeClassifier()\n",
    "\n",
    "#Definim els millors paràmetres per testejar:\n",
    "param_dict = {\n",
    "    \"criterion\":['gini', 'entropy'],\n",
    "    \"max_depth\":range(1,10),\n",
    "    \"min_samples_split\":range(1,10),\n",
    "    \"min_samples_leaf\":range(1,5)\n",
    "}\n",
    "\n",
    "#Creem el GridSearchCV: \n",
    "grid = GridSearchCV(cdt, param_grid=param_dict, cv=10, scoring='roc_auc', verbose=1, n_jobs=-1)\n",
    "grid.fit(x_t,y_t)"
   ]
  },
  {
   "cell_type": "code",
   "execution_count": 192,
   "id": "ed65ba46",
   "metadata": {},
   "outputs": [
    {
     "name": "stdout",
     "output_type": "stream",
     "text": [
      "Millors paràmetres: {'criterion': 'gini', 'max_depth': 2, 'min_samples_leaf': 2, 'min_samples_split': 4}\n",
      "ROC AUC score classification:  0.7702991452991453\n"
     ]
    }
   ],
   "source": [
    "#Millors paràmetres:\n",
    "millor_param =  grid.best_params_\n",
    "print(\"Millors paràmetres:\", millor_param)\n",
    "\n",
    "#Creem el model amb els millors paràmetres:\n",
    "cdt = grid.best_estimator_\n",
    "cdt.fit(x_t,y_t)\n",
    "pred = cdt.predict(x_v)\n",
    "print(\"ROC AUC score classification: \", roc_auc_score(y_v, pred))"
   ]
  },
  {
   "cell_type": "markdown",
   "id": "54c81af2",
   "metadata": {},
   "source": [
    "### 3.2 Random Forest:"
   ]
  },
  {
   "cell_type": "code",
   "execution_count": 193,
   "id": "b06bf6e5",
   "metadata": {},
   "outputs": [
    {
     "name": "stdout",
     "output_type": "stream",
     "text": [
      "ROC AUC score classification:  0.9305555555555556\n"
     ]
    }
   ],
   "source": [
    "crf = RandomForestClassifier(random_state = 0)\n",
    "crf = crf.fit(x_t,y_t)\n",
    "pred = crf.predict(x_v)\n",
    "print(\"ROC AUC score classification: \", roc_auc_score(y_v, pred))"
   ]
  },
  {
   "cell_type": "markdown",
   "id": "84ebf25e",
   "metadata": {},
   "source": [
    "### 3.3 Regressor logísitc:"
   ]
  },
  {
   "cell_type": "code",
   "execution_count": 194,
   "id": "2ca11f80",
   "metadata": {},
   "outputs": [
    {
     "name": "stdout",
     "output_type": "stream",
     "text": [
      "ROC AUC score classification:  0.986111111111111\n"
     ]
    }
   ],
   "source": [
    "clr = LogisticRegression(C=10, fit_intercept=True, penalty='l2', tol=0.001, max_iter=1000000)\n",
    "clr = clr.fit(x_t,y_t)\n",
    "pred = clr.predict(x_v)\n",
    "print(\"ROC AUC score classification: \", roc_auc_score(y_v, pred))"
   ]
  },
  {
   "cell_type": "markdown",
   "id": "08ef83ca",
   "metadata": {},
   "source": [
    "## 4.0 Resultats"
   ]
  },
  {
   "cell_type": "markdown",
   "id": "2d27d39e",
   "metadata": {},
   "source": [
    "Degut a que la base de dades és balancejada compararem els models segons la mètrica AUC aplicant Cross Validation a cada model, a més, utilitzarem RepeatedKFold per a que siguin més fiables les execucions."
   ]
  },
  {
   "cell_type": "code",
   "execution_count": 195,
   "id": "e9a54adb",
   "metadata": {},
   "outputs": [],
   "source": [
    "def crossValidation(model, k, n):\n",
    "    rkf = RepeatedKFold(n_splits=k, n_repeats=n)\n",
    "    scores = cross_val_score(model, x_t, y_t, cv=rkf, scoring=\"roc_auc\")\n",
    "    print(\"%0.2f AUC with a standard deviation of %0.2f\" % (scores.mean(), scores.std()))"
   ]
  },
  {
   "cell_type": "code",
   "execution_count": 196,
   "id": "aac7e803",
   "metadata": {},
   "outputs": [
    {
     "name": "stdout",
     "output_type": "stream",
     "text": [
      "Decision Tree:\n",
      "0.90 AUC with a standard deviation of 0.08\n",
      "==============================\n",
      "Random Forest:\n",
      "0.96 AUC with a standard deviation of 0.05\n",
      "==============================\n",
      "Regresor logístic:\n",
      "0.99 AUC with a standard deviation of 0.01\n"
     ]
    }
   ],
   "source": [
    "#Decision Tree\n",
    "print(\"Decision Tree:\")\n",
    "crossValidation(cdt,10,3)\n",
    "print(\"==============================\")\n",
    "#Random Forest\n",
    "print(\"Random Forest:\")\n",
    "crossValidation(crf,10,3)\n",
    "print(\"==============================\")\n",
    "#Regressor logístic\n",
    "print(\"Regresor logístic:\")\n",
    "crossValidation(clr,10,3)"
   ]
  },
  {
   "cell_type": "markdown",
   "id": "0863b8cc",
   "metadata": {},
   "source": [
    "Com podem veure en els resultats de l'execució anterior, el millor model és el Regressor Logísitc amb un AUC de 0.99 i una desviació estàndard de 0.02, és a dir una classificació casi perfecte."
   ]
  }
 ],
 "metadata": {
  "kernelspec": {
   "display_name": "Python 3",
   "language": "python",
   "name": "python3"
  },
  "language_info": {
   "codemirror_mode": {
    "name": "ipython",
    "version": 3
   },
   "file_extension": ".py",
   "mimetype": "text/x-python",
   "name": "python",
   "nbconvert_exporter": "python",
   "pygments_lexer": "ipython3",
   "version": "3.8.8"
  }
 },
 "nbformat": 4,
 "nbformat_minor": 5
}
